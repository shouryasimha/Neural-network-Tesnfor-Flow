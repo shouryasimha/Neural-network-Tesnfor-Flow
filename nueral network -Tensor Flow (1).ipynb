{
 "cells": [
  {
   "cell_type": "code",
   "execution_count": 1,
   "metadata": {},
   "outputs": [],
   "source": [
    "import matplotlib.pyplot as plt\n",
    "import numpy as np\n",
    "import tensorflow as tf"
   ]
  },
  {
   "cell_type": "code",
   "execution_count": 2,
   "metadata": {},
   "outputs": [],
   "source": [
    "observation=1000\n",
    "xs=np.random.uniform(low=-10, high=10,size= (observation,1))\n",
    "zs=np.random.uniform(-10,10,(observation,1))\n",
    "\n",
    "generated_inputs= np.column_stack((xs,zs))\n",
    "noise=np.random.uniform(-1,1,(observation,1))\n",
    "generated_target= 3 * xs -7 * zs + 5 + noise\n",
    "np.savez('TF_intro',inputs=generated_inputs,target=generated_target)\n"
   ]
  },
  {
   "cell_type": "code",
   "execution_count": 3,
   "metadata": {},
   "outputs": [],
   "source": [
    "input_size = 2\n",
    "output_size = 1"
   ]
  },
  {
   "cell_type": "code",
   "execution_count": 4,
   "metadata": {},
   "outputs": [],
   "source": [
    "inputs= tf.placeholder(tf.float32,[None,input_size])\n",
    "targets=tf.placeholder(tf.float32,[None,output_size])"
   ]
  },
  {
   "cell_type": "code",
   "execution_count": 5,
   "metadata": {},
   "outputs": [
    {
     "name": "stdout",
     "output_type": "stream",
     "text": [
      "WARNING:tensorflow:From C:\\Users\\Public\\Anaconda2\\envs\\py36\\lib\\site-packages\\tensorflow\\python\\framework\\op_def_library.py:263: colocate_with (from tensorflow.python.framework.ops) is deprecated and will be removed in a future version.\n",
      "Instructions for updating:\n",
      "Colocations handled automatically by placer.\n",
      "<tf.Variable 'Variable:0' shape=(2, 1) dtype=float32_ref> <tf.Variable 'Variable_1:0' shape=(1,) dtype=float32_ref>\n"
     ]
    }
   ],
   "source": [
    "weights=tf.Variable(tf.random_uniform([input_size,output_size],minval= -0.1, maxval=0.1))\n",
    "biases=tf.Variable(tf.random_uniform([output_size],minval= -0.1, maxval=0.1))\n",
    "print(weights,biases)\n"
   ]
  },
  {
   "cell_type": "code",
   "execution_count": 6,
   "metadata": {},
   "outputs": [
    {
     "name": "stdout",
     "output_type": "stream",
     "text": [
      "Tensor(\"add:0\", shape=(?, 1), dtype=float32)\n"
     ]
    }
   ],
   "source": [
    "outputs = tf.matmul(inputs,weights) + biases\n",
    "print(outputs)"
   ]
  },
  {
   "cell_type": "code",
   "execution_count": 7,
   "metadata": {},
   "outputs": [
    {
     "name": "stdout",
     "output_type": "stream",
     "text": [
      "WARNING:tensorflow:From C:\\Users\\Public\\Anaconda2\\envs\\py36\\lib\\site-packages\\tensorflow\\python\\ops\\losses\\losses_impl.py:667: to_float (from tensorflow.python.ops.math_ops) is deprecated and will be removed in a future version.\n",
      "Instructions for updating:\n",
      "Use tf.cast instead.\n"
     ]
    }
   ],
   "source": [
    "mean_loss =tf.losses.mean_squared_error(labels= targets, predictions=outputs) / 2\n",
    " \n",
    "optimize= tf.train.GradientDescentOptimizer(learning_rate= 0.01). minimize(mean_loss)    "
   ]
  },
  {
   "cell_type": "code",
   "execution_count": 8,
   "metadata": {},
   "outputs": [],
   "source": [
    "sess = tf.InteractiveSession()"
   ]
  },
  {
   "cell_type": "code",
   "execution_count": 9,
   "metadata": {},
   "outputs": [],
   "source": [
    "initializer = tf.global_variables_initializer()\n",
    "sess.run(initializer)\n"
   ]
  },
  {
   "cell_type": "code",
   "execution_count": 10,
   "metadata": {},
   "outputs": [],
   "source": [
    "training_data= np.load ('TF_intro.npz')  "
   ]
  },
  {
   "cell_type": "code",
   "execution_count": 11,
   "metadata": {},
   "outputs": [
    {
     "name": "stdout",
     "output_type": "stream",
     "text": [
      "[ 2.87482925e-02  1.96614824e-02  1.70636356e-01 -1.34952009e-01\n",
      " -1.64749980e-01  8.60483646e-02 -8.57578889e-02 -1.06034078e-01\n",
      " -1.48193389e-01  1.38142064e-01  1.40491515e-01 -5.95019758e-02\n",
      "  2.17041284e-01  5.31399772e-02 -2.18207240e-01  2.23370463e-01\n",
      "  2.79221833e-01 -1.66876644e-01 -9.57908109e-02 -1.29271865e-01\n",
      "  1.67736467e-02 -3.89660448e-02 -1.74857490e-02 -1.20423965e-01\n",
      " -5.92770278e-02 -1.64306968e-01  7.46981278e-02 -1.77971646e-03\n",
      "  1.69602454e-01  1.37985438e-01 -1.05404012e-01  1.92364842e-01\n",
      "  1.95322871e-01  8.95961225e-02 -1.62173241e-01 -9.13147628e-03\n",
      "  2.11313486e-01 -1.14747919e-01 -1.07252739e-01  4.57236990e-02\n",
      " -5.39168864e-02  4.29013409e-02  8.44172761e-02  1.40835553e-01\n",
      "  6.42636344e-02 -1.21429041e-02  1.50806159e-01  2.45036781e-01\n",
      "  3.07004731e-02  2.58523196e-01  2.60849521e-02 -3.03560719e-02\n",
      "  3.13735567e-02  2.37823665e-01  9.03655291e-02  2.82602310e-01\n",
      " -8.83101970e-02 -7.25364164e-02 -1.30401790e-01  8.45279992e-02\n",
      "  4.56918776e-02  7.51503855e-02 -1.58716977e-01 -9.71030816e-02\n",
      "  8.61739814e-02  1.14230663e-01 -2.03421116e-02  2.18504995e-01\n",
      " -1.21279232e-01  3.48331034e-03 -4.59572598e-02 -4.50286269e-03\n",
      "  3.81559208e-02 -6.21798635e-02  2.60612011e-01 -6.57488406e-03\n",
      " -1.88202173e-01 -9.07338634e-02  2.22315967e-01  1.62930250e-01\n",
      "  1.74916595e-01  1.16157837e-01  6.12634942e-02  1.24583147e-01\n",
      "  1.86776549e-01  1.79313540e-01  1.17646344e-01  1.45537779e-01\n",
      " -8.37640092e-02 -6.10027537e-02  2.13118941e-01 -4.75365818e-02\n",
      " -1.16948880e-01  2.88092971e-01  6.39724135e-02  2.29825199e-01\n",
      "  1.84670895e-01  2.12051421e-01 -3.97776738e-02 -1.61972314e-01\n",
      "  1.40779972e-01  1.44144952e-01  2.82513320e-01  2.86670268e-01\n",
      " -2.09678382e-01  1.28418937e-01 -3.45402434e-02  1.19811393e-01\n",
      "  1.71965510e-01  1.31055832e-01  1.37415886e-01  5.30941561e-02\n",
      " -7.51521960e-02  7.73926526e-02 -6.95252568e-02  4.33842577e-02\n",
      "  9.16096345e-02  3.50351185e-02  1.07492708e-01 -1.47766583e-02\n",
      " -3.36443074e-02 -1.92601115e-01 -4.39793766e-02  2.32314140e-01\n",
      " -1.36834949e-01  3.70957628e-02  1.34352118e-01  1.12115040e-01\n",
      " -4.29976583e-02  1.76909447e-01  6.29043654e-02  1.12392642e-01\n",
      "  1.71296775e-01  4.84974682e-02  1.41248837e-01  3.93291600e-02\n",
      "  1.83484703e-01  1.71608359e-01  1.18211783e-01  1.16833113e-02\n",
      " -9.49804485e-03  1.58464700e-01  1.21767692e-01  7.15518445e-02\n",
      "  5.90007454e-02 -4.66954708e-02  8.13290477e-02 -1.42612606e-02\n",
      " -1.09039418e-01  2.09451944e-01  2.11998135e-01  6.27613217e-02\n",
      "  2.06599236e-01  1.89466238e-01  2.32824683e-01  3.11653242e-02\n",
      "  1.42424762e-01 -1.18937530e-03 -7.26709738e-02  5.92822842e-02\n",
      "  5.48525266e-02  1.96398318e-01  9.71236080e-02  8.32636356e-02\n",
      " -1.43646151e-01 -4.60103154e-02  1.91490501e-01 -3.86224315e-02\n",
      " -1.49155647e-01 -1.18089534e-01 -1.49282277e-01  1.16820611e-01\n",
      "  4.75326367e-02 -1.69756413e-01  1.06441393e-01 -8.43060464e-02\n",
      " -1.51102424e-01  4.42349501e-02  7.00141490e-02 -1.17593609e-01\n",
      "  3.56050953e-02  7.43782893e-03 -2.56323069e-02  1.02239706e-01\n",
      "  1.94254726e-01  1.47853315e-01 -8.94879177e-02 -3.99782360e-02\n",
      "  3.28503102e-02 -1.40394807e-01 -1.40712649e-01  2.06669588e-02\n",
      "  1.84861004e-01  4.07467782e-02 -9.30773020e-02 -1.93665206e-01\n",
      " -8.28653574e-02  2.11050034e-01 -2.96251401e-02  1.42175019e-01\n",
      " -8.60531926e-02 -1.69284225e-01  1.71044827e-01  1.33459046e-02\n",
      "  2.23635584e-01 -1.27572268e-01 -4.86907288e-02  3.11751783e-01\n",
      " -7.16892108e-02  2.29841381e-01  2.37490565e-01 -1.15358301e-01\n",
      "  1.46253891e-02  2.28891730e-01 -3.60584855e-02  1.83297306e-01\n",
      " -1.11106656e-01 -7.32816309e-02 -9.74952653e-02 -1.02458872e-01\n",
      "  2.24068910e-01 -1.42888933e-01 -1.72877163e-01  2.03557402e-01\n",
      " -2.20739335e-01  2.96529651e-01 -6.95981756e-02  1.27357394e-01\n",
      "  1.36913896e-01 -1.16927914e-01 -1.41021833e-02  2.16723323e-01\n",
      "  1.67614371e-02 -1.44597620e-01  1.10147372e-01 -1.04361527e-01\n",
      "  2.86251038e-01 -7.15212226e-02 -2.56224126e-02 -8.17176178e-02\n",
      " -4.36600074e-02 -2.15993166e-01  5.42203598e-02 -2.27511078e-01\n",
      "  5.13561554e-02  8.71414915e-02  5.15591316e-02  5.04633859e-02\n",
      "  9.24936011e-02 -1.03209622e-01 -1.56441540e-01  2.09405184e-01\n",
      "  1.24864943e-01  1.62302375e-01 -6.47796392e-02 -4.85586077e-02\n",
      " -9.31065753e-02  2.33687997e-01  6.37359992e-02 -4.16468680e-02\n",
      " -2.22396582e-01 -9.46204439e-02 -7.96056911e-02  1.82406157e-01\n",
      "  1.03005208e-03 -1.63430333e-01 -1.09909102e-02  1.64516032e-01\n",
      " -1.05992697e-01  1.35316536e-01  1.54837966e-01 -1.16760008e-01\n",
      "  2.79045012e-02 -2.33838081e-01  1.81886218e-02  3.24915387e-02\n",
      " -2.36019082e-02  2.12352186e-01 -1.96027234e-02  4.88014892e-02\n",
      "  2.06128001e-01 -3.31724361e-02 -8.04460719e-02  6.59506172e-02\n",
      " -1.62204355e-01 -1.84616446e-03  9.88760293e-02 -1.20453514e-01\n",
      "  1.61594689e-01 -8.33847001e-03  2.08933234e-01 -4.18299064e-02\n",
      "  1.94770619e-02 -2.08961248e-01  1.05882965e-01  8.46796334e-02\n",
      "  1.88196242e-01  1.48515105e-01  4.37979102e-02  2.10586041e-01\n",
      " -3.42321284e-02 -3.18794474e-02 -5.90063632e-02 -1.55605882e-01\n",
      " -8.60863924e-02  1.60692364e-01  1.11682862e-01 -1.00696914e-01\n",
      " -4.02595103e-03  6.94524795e-02 -1.24447189e-01  1.39225945e-01\n",
      " -3.39889899e-02  2.40858108e-01 -8.86137038e-03 -5.93948066e-02\n",
      "  9.51459259e-02 -7.35381171e-02 -1.74562365e-01  2.05095559e-01\n",
      " -2.54507244e-01  1.21696882e-01  2.41251916e-01  2.32353300e-01\n",
      " -2.00722665e-01  6.39074296e-03 -5.30038029e-02  3.42764929e-02\n",
      " -1.04653984e-02  1.68997675e-01  1.84289888e-02 -1.72134608e-01\n",
      " -2.03183331e-02 -2.21270829e-01  1.90268725e-01  2.01923132e-01\n",
      " -7.10345879e-02 -2.20700651e-01 -5.28126955e-02 -1.34889245e-01\n",
      "  1.23599157e-01  2.00140059e-01  8.41876417e-02 -3.27154920e-02\n",
      " -2.47101858e-02  2.14544535e-02  1.25392854e-01 -2.60286480e-02\n",
      " -7.87536278e-02 -7.76494741e-02 -2.15950489e-01  6.32608384e-02\n",
      " -1.16292797e-01 -1.29688710e-01  1.27744541e-01 -1.61334097e-01\n",
      "  2.58903116e-01 -4.34800535e-02  3.81100737e-03  1.39397979e-01\n",
      "  2.15115339e-01  3.08014825e-02 -6.81649074e-02 -3.86126041e-02\n",
      " -1.22183636e-02 -1.35555983e-01  1.57666087e-01  1.32081255e-01\n",
      "  1.89567298e-01  1.03612840e-01  7.11566955e-02 -3.28647718e-03\n",
      " -2.19620079e-01  2.39991874e-01 -1.15614310e-02  3.75877470e-02\n",
      " -1.30235702e-02  2.35518396e-01  2.10226953e-01  1.69524789e-01\n",
      "  1.71302140e-01 -1.38683021e-01  2.06068486e-01  7.62219280e-02\n",
      " -1.71617061e-01 -9.09413323e-02  2.46714801e-01  6.49073720e-03\n",
      "  1.20008253e-01  2.25767732e-01 -2.08946586e-01 -1.01482667e-01\n",
      " -7.65097737e-02  8.75318199e-02 -7.08631203e-02 -5.84436953e-03\n",
      " -2.23661274e-01 -7.39416927e-02 -5.52526563e-02  2.16801703e-01\n",
      " -7.49703720e-02 -4.27724272e-02  2.76557505e-01 -1.59093738e-03\n",
      "  3.09800468e-02  6.56512082e-02  2.43838578e-02  2.25216627e-01\n",
      " -1.46955580e-01  1.95546895e-02 -4.14725393e-02 -2.89788879e-02\n",
      " -3.54748592e-02  7.52509981e-02  1.05005555e-01  2.45001048e-01\n",
      "  1.76071227e-01  4.53041494e-03  1.43238589e-01 -5.33986613e-02\n",
      "  1.31728113e-01  1.68598592e-01  7.90711641e-02  1.16146281e-01\n",
      " -1.23378038e-02 -1.32604271e-01 -6.85218722e-02 -7.42379576e-03\n",
      " -3.00012976e-02 -2.49917328e-01  9.83463526e-02 -1.18146338e-01\n",
      " -1.39494717e-01 -6.29521683e-02 -8.32505301e-02  8.93083364e-02\n",
      "  1.20457940e-01  2.27288544e-01  3.02811444e-01 -1.32646352e-01\n",
      "  2.66138222e-02  1.26431644e-01 -7.26712123e-03 -8.22335854e-02\n",
      " -1.27392173e-01  7.09138215e-02  5.84001392e-02 -1.44802421e-01\n",
      "  2.06112176e-01 -1.22636043e-01 -1.13920994e-01 -9.26435217e-02\n",
      "  6.62664473e-02  8.98900554e-02 -6.55260906e-02  8.60020667e-02\n",
      " -1.44460678e-01  2.78300285e-01 -1.62209362e-01 -1.34909838e-01\n",
      "  2.54670203e-01 -1.29278153e-02  4.33503762e-02  1.30325183e-02\n",
      "  2.33830005e-01 -8.66557136e-02  1.70639288e-02 -1.42795652e-01\n",
      " -1.56301856e-01 -5.91180101e-03 -2.59747095e-02  3.07422243e-02\n",
      "  2.36831754e-01  2.05899000e-01  1.60206407e-01  2.20455050e-01\n",
      "  9.91108865e-02 -1.20138235e-01  2.76942551e-01  1.34648725e-01\n",
      "  3.76505069e-02  9.96724814e-02 -1.45749956e-01 -1.40947960e-02\n",
      " -6.82274923e-02  1.00832544e-01 -1.09352730e-02  9.20743421e-02\n",
      "  1.25217408e-01 -8.21198598e-02 -1.09906562e-01  4.27978486e-03\n",
      "  2.02160150e-01 -5.50331995e-02 -8.82806107e-02  1.32586747e-01\n",
      "  1.47931606e-01  1.19315766e-01  3.89233567e-02 -2.01407015e-01\n",
      " -5.58343157e-02  1.38704240e-01  1.79142684e-01  1.36748463e-01\n",
      "  1.33630246e-01 -6.61046579e-02  7.23671168e-02 -9.22203436e-02\n",
      "  1.08148664e-01 -1.38749816e-02 -1.13792934e-01  2.66622990e-01\n",
      "  1.63267463e-01  9.38646793e-02  2.26859748e-01 -1.43975541e-02\n",
      " -5.34959137e-04  2.70961165e-01  1.01281047e-01 -1.42401874e-01\n",
      "  2.76757851e-02  3.59041467e-02 -8.40709060e-02 -1.17243908e-01\n",
      "  7.74437338e-02  5.31398840e-02 -2.35541433e-01 -1.30992919e-01\n",
      " -8.54485482e-03  1.34078085e-01 -1.20109491e-01  8.51637572e-02\n",
      " -7.67447054e-02  1.67763710e-01 -8.07219744e-03  8.92011672e-02\n",
      " -4.01980802e-02  4.00167480e-02 -1.51522994e-01  4.75629270e-02\n",
      "  9.18028206e-02 -1.03471063e-01 -9.15284529e-02 -1.35160118e-01\n",
      " -1.18285216e-01  1.76331103e-01 -6.82552606e-02  2.61942446e-01\n",
      "  1.81648403e-01  1.51203081e-01  8.05678144e-02  1.45667970e-01\n",
      "  1.76164582e-02  1.10060014e-01  1.18863054e-01  7.13402554e-02\n",
      "  1.63765043e-01  3.30672674e-02  2.65473068e-01 -5.81285879e-02\n",
      "  6.27478287e-02  1.29651338e-01  8.38296562e-02 -1.33122444e-01\n",
      " -2.45890915e-02 -2.88385078e-02 -2.45541513e-01 -1.52343541e-01\n",
      " -1.90724760e-01  1.06099002e-01 -6.04605302e-02  1.31427765e-01\n",
      "  8.20946842e-02 -7.36968294e-02 -2.66348831e-02  1.42352618e-02\n",
      "  8.28821138e-02 -9.21244696e-02  2.54413068e-01 -2.31443465e-01\n",
      "  3.88293788e-02  1.85676455e-01 -1.32462353e-01 -1.88809305e-01\n",
      "  2.90109217e-02 -1.32033497e-01  4.82565351e-03  2.48322427e-01\n",
      "  1.58320338e-01  2.04924256e-01  1.21089607e-01 -4.14599329e-02\n",
      "  6.96757585e-02  6.14704750e-02  6.24520406e-02  1.11215368e-01\n",
      " -1.56095862e-01 -2.40826607e-01  6.85331374e-02  6.01424500e-02\n",
      "  2.25102335e-01  2.08045423e-01 -1.00478522e-01 -1.48928836e-02\n",
      "  1.03895850e-01  1.84078902e-01  2.91706808e-02  3.77478898e-02\n",
      "  1.73419714e-03  1.34552300e-01 -1.74078971e-01  2.23170407e-03\n",
      " -1.15213387e-01  2.25543469e-01  1.51783407e-01  1.12094589e-01\n",
      "  6.25701323e-02  1.12920649e-01  1.56394422e-01 -1.86976016e-01\n",
      " -1.62066780e-02  7.73309693e-02  7.01188520e-02  2.43840873e-01\n",
      " -1.44997716e-01  2.63405979e-01 -1.11601837e-01 -5.23348972e-02\n",
      " -1.23554341e-01  2.13860601e-01  1.90196067e-01  1.71821773e-01\n",
      "  2.19133586e-01  7.66116232e-02  1.68657064e-01  2.05476522e-01\n",
      " -2.55257040e-02 -4.52025384e-02  1.97276384e-01  2.97657967e-01\n",
      "  5.79257086e-02  1.89633042e-01  1.90295309e-01 -1.30527884e-01\n",
      " -9.90935490e-02  1.71502978e-01 -2.88226195e-02  9.90368202e-02\n",
      "  5.70068806e-02  2.18229145e-01  6.98512048e-02  8.30605030e-02\n",
      " -3.94931808e-02 -1.01847388e-01 -1.34018272e-01 -2.49241441e-02\n",
      "  4.66454849e-02 -2.70108357e-02  1.96424633e-01  1.78329051e-01\n",
      " -9.33479071e-02 -1.37612730e-01 -4.28409129e-02 -7.84187391e-03\n",
      "  4.04970944e-02 -4.20753509e-02  1.54688656e-01 -7.10718259e-02\n",
      "  1.39910579e-01 -8.21433440e-02  2.29795814e-01  2.37675577e-01\n",
      "  1.91647500e-01  1.41409487e-01  2.25142747e-01  2.45762855e-01\n",
      "  8.32205266e-02  9.20182094e-02  2.54492369e-02 -1.42925173e-01\n",
      " -1.12258874e-01  3.77564877e-02  1.93923265e-01  2.13196218e-01\n",
      "  1.41235918e-01 -3.01837996e-02  3.05197090e-01  8.32630545e-02\n",
      "  2.08022982e-01  2.47622043e-01  1.51560679e-01  6.38670623e-02\n",
      "  8.76831338e-02 -4.66895327e-02  1.39007211e-01 -5.45222312e-03\n",
      "  1.55677766e-01  1.13521945e-02 -2.41207123e-01  2.29267925e-01\n",
      "  2.33213246e-01  1.79366469e-01 -7.01292902e-02 -2.04859495e-01\n",
      "  7.72991776e-02  2.23733813e-01 -4.14794311e-02 -1.47065967e-01\n",
      "  2.71785948e-02 -1.00426681e-01  2.34196186e-01  1.29449934e-01\n",
      "  2.16270626e-01  2.47263312e-01 -1.16166301e-01  1.50756225e-01\n",
      " -5.72696105e-02 -5.53514436e-02 -5.77860326e-02 -1.34361684e-01\n",
      "  2.88841911e-02 -1.69348478e-01  1.54040843e-01  2.08940655e-01\n",
      " -3.37518230e-02 -5.27592376e-02  1.04757264e-01 -1.31214976e-01\n",
      "  2.31278718e-01  7.39855170e-02  2.31067061e-01  2.30612785e-01\n",
      "  2.18599021e-01  2.78676271e-01  7.47910738e-02 -1.20139189e-01\n",
      "  1.86129659e-01 -6.11237809e-03  5.27494103e-02 -1.05655245e-01\n",
      "  1.29664540e-01 -3.23096365e-02  8.43725801e-02 -1.09557636e-01\n",
      " -7.25934952e-02  1.42176673e-01 -1.87648326e-01  8.40707645e-02\n",
      "  1.57858431e-01  1.54338062e-01  1.28770024e-01 -8.47149417e-02\n",
      "  1.48472160e-01  1.83947951e-01 -2.64333822e-02  6.85859621e-02\n",
      "  2.21356362e-01 -1.46822512e-01  5.23034260e-02  1.28623039e-01\n",
      " -1.96001410e-01 -2.82236114e-02 -1.35195777e-02  1.63865924e-01\n",
      " -7.26513192e-02  2.98720859e-02  5.93514889e-02  5.47373593e-02\n",
      " -3.37499864e-02 -2.79385373e-02  2.31234044e-01 -1.04080819e-01\n",
      "  1.63113892e-01 -1.40160650e-01 -1.69606119e-01  1.55671895e-01\n",
      "  1.10896513e-01  1.94301873e-01 -1.30288273e-01 -1.08341999e-01\n",
      " -2.83944979e-02 -9.09836963e-02 -1.38242453e-01  2.17910875e-02\n",
      " -1.30796373e-01 -1.53916329e-03 -8.50667581e-02 -9.46678892e-02\n",
      "  6.01793826e-03  2.82906353e-01  1.38723075e-01 -2.79507861e-02\n",
      "  7.89772868e-02 -8.15934539e-02 -1.83867007e-01 -2.16400214e-02\n",
      "  1.55644804e-01 -7.17098787e-02 -9.16803405e-02 -1.47241876e-02\n",
      "  4.02272381e-02 -1.55932695e-01  1.67042583e-01  8.45748782e-02\n",
      " -1.96906440e-02  4.39278074e-02  2.04634577e-01  1.71476930e-01\n",
      "  2.16719568e-01  5.73838502e-03  2.15050906e-01  1.20731533e-01\n",
      "  2.92961970e-02  2.04122305e-01  3.70733105e-02  2.37949640e-02\n",
      " -9.79216024e-02  1.27953947e-01  7.03039169e-02 -1.39208645e-01\n",
      "  2.93541849e-02  1.11665435e-01  5.56303002e-02  8.27170908e-02\n",
      "  1.82857364e-01 -2.17839703e-02  2.54811719e-02  2.52558533e-02\n",
      "  9.40958858e-02 -1.56821847e-01  9.69271064e-02 -6.59707859e-02\n",
      "  9.10885185e-02 -4.19224203e-02  1.87788844e-01  1.64564908e-01\n",
      " -2.98065767e-02 -8.96860436e-02 -1.89054698e-01  1.84941769e-01\n",
      "  1.34557292e-01  1.87691659e-01  1.23365417e-01  1.57060027e-01\n",
      " -1.21236034e-01  2.82742865e-02 -1.69126689e-01 -5.54147884e-02\n",
      " -5.97484335e-02  2.22346056e-02 -1.11945279e-01 -4.71373126e-02\n",
      "  2.03693751e-02 -1.61335677e-01 -2.47158073e-02 -5.86640164e-02\n",
      "  1.06358267e-01  6.31545186e-02  2.38986373e-01 -1.86468154e-01\n",
      "  1.16520159e-01 -9.90259275e-02  1.59404874e-01  4.94719110e-02\n",
      "  3.66297401e-02  2.34125823e-01  2.29542684e-02  1.31764203e-01\n",
      " -9.95469019e-02 -1.56352334e-02 -5.97869754e-02  1.83916166e-02\n",
      "  7.64164776e-02  9.99597907e-02  5.20743728e-02  1.95502549e-01\n",
      " -4.94811982e-02 -1.82569653e-01  1.35979384e-01 -2.25573778e-04\n",
      " -3.12205665e-02  2.33568102e-01  5.23711666e-02  1.30731642e-01\n",
      " -3.32703739e-02 -9.69712809e-02  2.46439517e-01 -2.36772865e-01\n",
      "  2.91194841e-02  2.03663744e-02 -1.22936763e-01 -3.52962390e-02\n",
      " -9.89857838e-02 -6.56501055e-02 -7.26731867e-02  9.42172110e-02\n",
      " -1.15197472e-01 -1.54126287e-01 -1.72086686e-01 -5.26945591e-02\n",
      " -4.35650051e-02 -1.78025067e-02 -1.56438112e-01  1.87900871e-01\n",
      "  8.56614411e-02 -1.56301945e-01  1.48279965e-02  1.18504487e-01\n",
      "  1.41909838e-01  1.34620517e-01  9.72540602e-02 -1.54518068e-01\n",
      " -8.12183991e-02 -1.28326863e-01 -7.49571770e-02  1.77670956e-01\n",
      " -1.13852479e-01  1.22126713e-01  8.75217840e-02 -4.52711135e-02\n",
      " -3.02185044e-02  1.58523381e-01  1.28449842e-01  5.19580469e-02\n",
      "  9.10946429e-02  3.40109989e-02 -2.33198345e-01  5.26164994e-02\n",
      "  2.20855586e-02 -8.15489590e-02 -2.77411342e-02  2.27476448e-01\n",
      "  2.28195131e-01 -3.51282656e-02 -7.44548738e-02 -1.87037021e-01\n",
      " -3.38526070e-03  1.31126136e-01 -3.14752012e-03  2.03661531e-01\n",
      " -2.91629620e-02  2.96606719e-01  2.37042397e-01  2.35601664e-01\n",
      " -2.22661376e-01 -1.14234887e-01 -1.77469939e-01 -2.09712207e-01\n",
      "  1.92191720e-01 -3.05978805e-02 -2.10552692e-01  2.63925157e-02\n",
      " -1.52312756e-01  1.11615039e-01  1.06953830e-01  2.32505053e-01\n",
      "  4.13852632e-02 -1.66038185e-01 -1.96425542e-02  3.50599438e-02\n",
      " -1.28157347e-01 -1.35581315e-01 -1.78895682e-01  5.39259128e-02\n",
      " -1.08710878e-01 -4.91752177e-02  6.71709925e-02 -1.15146883e-01\n",
      "  6.75994828e-02  1.34870946e-01 -1.14444517e-01 -1.05246104e-01\n",
      "  1.64251655e-01 -1.56463087e-01  1.65297329e-01 -8.20618272e-02\n",
      "  1.32590473e-01  6.80401921e-04  1.94281012e-01  6.43665493e-02\n",
      "  1.55529052e-01  2.13804156e-01  2.30590016e-01  1.15004800e-01\n",
      " -3.56030390e-02  1.17738687e-01  9.12623480e-03 -1.51838541e-01\n",
      "  1.32347733e-01  1.91753358e-03 -7.18322769e-02 -6.11470118e-02\n",
      " -1.28338337e-02  2.12441862e-01 -4.39098701e-02  4.26952541e-03\n",
      " -9.20505822e-02  1.82352215e-01  1.47353619e-01  8.37435350e-02]\n"
     ]
    },
    {
     "data": {
      "text/plain": [
       "[<matplotlib.lines.Line2D at 0x20534328d68>]"
      ]
     },
     "execution_count": 11,
     "metadata": {},
     "output_type": "execute_result"
    },
    {
     "data": {
      "image/png": "[encoded data removed]",
      "text/plain": [
       "<Figure size 432x288 with 1 Axes>"
      ]
     },
     "metadata": {
      "needs_background": "light"
     },
     "output_type": "display_data"
    }
   ],
   "source": [
    "out = sess.run([outputs],\n",
    "                      feed_dict = {inputs:training_data['inputs']})\n",
    "print(np.squeeze(out))\n",
    "\n",
    "\n",
    "plt.plot(np.squeeze(out),np.squeeze(training_data['target']))\n"
   ]
  },
  {
   "cell_type": "code",
   "execution_count": 26,
   "metadata": {},
   "outputs": [
    {
     "name": "stdout",
     "output_type": "stream",
     "text": [
      "1.8734938\n",
      "1.8396208\n",
      "1.8064177\n",
      "1.7738732\n",
      "1.7419792\n",
      "1.7107166\n",
      "1.6800733\n",
      "1.6500409\n",
      "1.6206065\n",
      "1.5917549\n",
      "1.5634758\n",
      "1.5357598\n",
      "1.5085925\n",
      "1.4819664\n",
      "1.4558696\n",
      "1.4302906\n",
      "1.4052192\n",
      "1.3806465\n",
      "1.356561\n",
      "1.3329555\n",
      "1.3098183\n",
      "1.287139\n",
      "1.2649119\n",
      "1.2431282\n",
      "1.2217736\n",
      "1.2008458\n",
      "1.1803328\n",
      "1.1602278\n",
      "1.1405213\n",
      "1.1212052\n",
      "1.1022757\n",
      "1.08372\n",
      "1.0655335\n",
      "1.0477083\n",
      "1.0302379\n",
      "1.0131141\n",
      "0.99632996\n",
      "0.97987974\n",
      "0.9637568\n",
      "0.94795215\n",
      "0.9324642\n",
      "0.9172825\n",
      "0.9024018\n",
      "0.8878169\n",
      "0.873522\n",
      "0.85951257\n",
      "0.84577906\n",
      "0.8323197\n",
      "0.8191275\n",
      "0.8061973\n",
      "0.79352367\n",
      "0.781102\n",
      "0.76892835\n",
      "0.7569953\n",
      "0.7452993\n",
      "0.73383534\n",
      "0.7226001\n",
      "0.71158653\n",
      "0.70079345\n",
      "0.6902135\n",
      "0.6798442\n",
      "0.6696818\n",
      "0.65971965\n",
      "0.6499564\n",
      "0.6403868\n",
      "0.6310069\n",
      "0.6218134\n",
      "0.6128036\n",
      "0.6039715\n",
      "0.59531575\n",
      "0.5868313\n",
      "0.57851565\n",
      "0.57036585\n",
      "0.5623771\n",
      "0.5545477\n",
      "0.5468734\n",
      "0.5393508\n",
      "0.531979\n",
      "0.5247529\n",
      "0.51767033\n",
      "0.51072884\n",
      "0.5039252\n",
      "0.49725658\n",
      "0.49072033\n",
      "0.48431396\n",
      "0.47803503\n",
      "0.4718806\n",
      "0.46584806\n",
      "0.45993677\n",
      "0.45414147\n",
      "0.44846168\n",
      "0.44289476\n",
      "0.4374385\n",
      "0.43209106\n",
      "0.42684883\n",
      "0.42171136\n",
      "0.41667572\n",
      "0.41174075\n",
      "0.4069028\n",
      "0.40216112\n"
     ]
    }
   ],
   "source": [
    "for e in range(100):\n",
    "    \n",
    "      _, curr_loss =sess.run([optimize,mean_loss],\n",
    "                            feed_dict = {inputs : training_data['inputs'], targets: training_data['target']})\n",
    "     \n",
    "      print(curr_loss)"
   ]
  },
  {
   "cell_type": "code",
   "execution_count": 27,
   "metadata": {},
   "outputs": [
    {
     "data": {
      "text/plain": [
       "0.40216112"
      ]
     },
     "execution_count": 27,
     "metadata": {},
     "output_type": "execute_result"
    }
   ],
   "source": [
    "curr_loss"
   ]
  },
  {
   "cell_type": "code",
   "execution_count": 22,
   "metadata": {},
   "outputs": [
    {
     "data": {
      "text/plain": [
       "1"
      ]
     },
     "execution_count": 22,
     "metadata": {},
     "output_type": "execute_result"
    }
   ],
   "source": []
  },
  {
   "cell_type": "code",
   "execution_count": 25,
   "metadata": {},
   "outputs": [
    {
     "data": {
      "text/plain": [
       "1"
      ]
     },
     "execution_count": 25,
     "metadata": {},
     "output_type": "execute_result"
    }
   ],
   "source": [
    "bin\n",
    "(int(curr_loss))"
   ]
  },
  {
   "cell_type": "code",
   "execution_count": null,
   "metadata": {},
   "outputs": [],
   "source": []
  }
 ],
 "metadata": {
  "kernelspec": {
   "display_name": "Python 3",
   "language": "python",
   "name": "python3"
  },
  "language_info": {
   "codemirror_mode": {
    "name": "ipython",
    "version": 3
   },
   "file_extension": ".py",
   "mimetype": "text/x-python",
   "name": "python",
   "nbconvert_exporter": "python",
   "pygments_lexer": "ipython3",
   "version": "3.6.8"
  }
 },
 "nbformat": 4,
 "nbformat_minor": 2
}
